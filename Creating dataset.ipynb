{
 "cells": [
  {
   "cell_type": "markdown",
   "metadata": {},
   "source": [
    "## imports"
   ]
  },
  {
   "cell_type": "code",
   "execution_count": 2,
   "metadata": {},
   "outputs": [],
   "source": [
    "import json\n",
    "import gzip\n",
    "import numpy as np\n",
    "import pandas as pd\n",
    "from pandas.io.json import json_normalize\n",
    "from random import sample\n",
    "\n",
    "import matplotlib.pyplot as plt\n",
    "%matplotlib inline"
   ]
  },
  {
   "cell_type": "markdown",
   "metadata": {},
   "source": [
    "## load sample"
   ]
  },
  {
   "cell_type": "code",
   "execution_count": 3,
   "metadata": {},
   "outputs": [],
   "source": [
    "data = []\n",
    "with open('sample.json') as f:\n",
    "  for line in f.readlines():\n",
    "    data.append(json.loads(line))"
   ]
  },
  {
   "cell_type": "code",
   "execution_count": 4,
   "metadata": {},
   "outputs": [],
   "source": [
    "df = json_normalize(data)"
   ]
  },
  {
   "cell_type": "code",
   "execution_count": 5,
   "metadata": {},
   "outputs": [
    {
     "data": {
      "text/html": [
       "<div>\n",
       "<style scoped>\n",
       "    .dataframe tbody tr th:only-of-type {\n",
       "        vertical-align: middle;\n",
       "    }\n",
       "\n",
       "    .dataframe tbody tr th {\n",
       "        vertical-align: top;\n",
       "    }\n",
       "\n",
       "    .dataframe thead th {\n",
       "        text-align: right;\n",
       "    }\n",
       "</style>\n",
       "<table border=\"1\" class=\"dataframe\">\n",
       "  <thead>\n",
       "    <tr style=\"text-align: right;\">\n",
       "      <th></th>\n",
       "      <th>overall</th>\n",
       "      <th>verified</th>\n",
       "      <th>reviewTime</th>\n",
       "      <th>reviewerID</th>\n",
       "      <th>asin</th>\n",
       "      <th>reviewerName</th>\n",
       "      <th>reviewText</th>\n",
       "      <th>summary</th>\n",
       "      <th>unixReviewTime</th>\n",
       "    </tr>\n",
       "  </thead>\n",
       "  <tbody>\n",
       "    <tr>\n",
       "      <th>0</th>\n",
       "      <td>5.0</td>\n",
       "      <td>True</td>\n",
       "      <td>10 17, 2015</td>\n",
       "      <td>A1HP7NVNPFMA4N</td>\n",
       "      <td>0700026657</td>\n",
       "      <td>Ambrosia075</td>\n",
       "      <td>This game is a bit hard to get the hang of, bu...</td>\n",
       "      <td>but when you do it's great.</td>\n",
       "      <td>1445040000</td>\n",
       "    </tr>\n",
       "    <tr>\n",
       "      <th>1</th>\n",
       "      <td>4.0</td>\n",
       "      <td>False</td>\n",
       "      <td>07 27, 2015</td>\n",
       "      <td>A1JGAP0185YJI6</td>\n",
       "      <td>0700026657</td>\n",
       "      <td>travis</td>\n",
       "      <td>I played it a while but it was alright. The st...</td>\n",
       "      <td>But in spite of that it was fun, I liked it</td>\n",
       "      <td>1437955200</td>\n",
       "    </tr>\n",
       "    <tr>\n",
       "      <th>2</th>\n",
       "      <td>3.0</td>\n",
       "      <td>True</td>\n",
       "      <td>02 23, 2015</td>\n",
       "      <td>A1YJWEXHQBWK2B</td>\n",
       "      <td>0700026657</td>\n",
       "      <td>Vincent G. Mezera</td>\n",
       "      <td>ok game.</td>\n",
       "      <td>Three Stars</td>\n",
       "      <td>1424649600</td>\n",
       "    </tr>\n",
       "    <tr>\n",
       "      <th>3</th>\n",
       "      <td>2.0</td>\n",
       "      <td>True</td>\n",
       "      <td>02 20, 2015</td>\n",
       "      <td>A2204E1TH211HT</td>\n",
       "      <td>0700026657</td>\n",
       "      <td>Grandma KR</td>\n",
       "      <td>found the game a bit too complicated, not what...</td>\n",
       "      <td>Two Stars</td>\n",
       "      <td>1424390400</td>\n",
       "    </tr>\n",
       "    <tr>\n",
       "      <th>4</th>\n",
       "      <td>5.0</td>\n",
       "      <td>True</td>\n",
       "      <td>12 25, 2014</td>\n",
       "      <td>A2RF5B5H74JLPE</td>\n",
       "      <td>0700026657</td>\n",
       "      <td>jon</td>\n",
       "      <td>great game, I love it and have played it since...</td>\n",
       "      <td>love this game</td>\n",
       "      <td>1419465600</td>\n",
       "    </tr>\n",
       "  </tbody>\n",
       "</table>\n",
       "</div>"
      ],
      "text/plain": [
       "   overall  verified   reviewTime      reviewerID        asin  \\\n",
       "0      5.0      True  10 17, 2015  A1HP7NVNPFMA4N  0700026657   \n",
       "1      4.0     False  07 27, 2015  A1JGAP0185YJI6  0700026657   \n",
       "2      3.0      True  02 23, 2015  A1YJWEXHQBWK2B  0700026657   \n",
       "3      2.0      True  02 20, 2015  A2204E1TH211HT  0700026657   \n",
       "4      5.0      True  12 25, 2014  A2RF5B5H74JLPE  0700026657   \n",
       "\n",
       "        reviewerName                                         reviewText  \\\n",
       "0        Ambrosia075  This game is a bit hard to get the hang of, bu...   \n",
       "1             travis  I played it a while but it was alright. The st...   \n",
       "2  Vincent G. Mezera                                           ok game.   \n",
       "3         Grandma KR  found the game a bit too complicated, not what...   \n",
       "4                jon  great game, I love it and have played it since...   \n",
       "\n",
       "                                       summary  unixReviewTime  \n",
       "0                  but when you do it's great.      1445040000  \n",
       "1  But in spite of that it was fun, I liked it      1437955200  \n",
       "2                                  Three Stars      1424649600  \n",
       "3                                    Two Stars      1424390400  \n",
       "4                               love this game      1419465600  "
      ]
     },
     "execution_count": 5,
     "metadata": {},
     "output_type": "execute_result"
    }
   ],
   "source": [
    "df.head()"
   ]
  },
  {
   "cell_type": "markdown",
   "metadata": {},
   "source": [
    "## load review data"
   ]
  },
  {
   "cell_type": "code",
   "execution_count": 6,
   "metadata": {},
   "outputs": [],
   "source": [
    "data = []\n",
    "with gzip.open('Video_Games_5.json.gz','rt') as f:\n",
    "  for line in f:\n",
    "    data.append(json.loads(line))"
   ]
  },
  {
   "cell_type": "code",
   "execution_count": 7,
   "metadata": {},
   "outputs": [
    {
     "data": {
      "text/plain": [
       "497577"
      ]
     },
     "execution_count": 7,
     "metadata": {},
     "output_type": "execute_result"
    }
   ],
   "source": [
    "len(data)"
   ]
  },
  {
   "cell_type": "code",
   "execution_count": 8,
   "metadata": {},
   "outputs": [],
   "source": [
    "df = json_normalize(data)"
   ]
  },
  {
   "cell_type": "code",
   "execution_count": 9,
   "metadata": {},
   "outputs": [
    {
     "data": {
      "text/html": [
       "<div>\n",
       "<style scoped>\n",
       "    .dataframe tbody tr th:only-of-type {\n",
       "        vertical-align: middle;\n",
       "    }\n",
       "\n",
       "    .dataframe tbody tr th {\n",
       "        vertical-align: top;\n",
       "    }\n",
       "\n",
       "    .dataframe thead th {\n",
       "        text-align: right;\n",
       "    }\n",
       "</style>\n",
       "<table border=\"1\" class=\"dataframe\">\n",
       "  <thead>\n",
       "    <tr style=\"text-align: right;\">\n",
       "      <th></th>\n",
       "      <th>overall</th>\n",
       "      <th>verified</th>\n",
       "      <th>reviewTime</th>\n",
       "      <th>reviewerID</th>\n",
       "      <th>asin</th>\n",
       "      <th>reviewerName</th>\n",
       "      <th>reviewText</th>\n",
       "      <th>summary</th>\n",
       "      <th>unixReviewTime</th>\n",
       "      <th>vote</th>\n",
       "      <th>...</th>\n",
       "      <th>style.Package Type:</th>\n",
       "      <th>style.Package Quantity:</th>\n",
       "      <th>style.Item Package Quantity:</th>\n",
       "      <th>style.Pattern:</th>\n",
       "      <th>style.Platform for Display:</th>\n",
       "      <th>style.Style Name:</th>\n",
       "      <th>style.Denomination:</th>\n",
       "      <th>style.Offer Type:</th>\n",
       "      <th>style.Configuration:</th>\n",
       "      <th>style.Color Name:</th>\n",
       "    </tr>\n",
       "  </thead>\n",
       "  <tbody>\n",
       "    <tr>\n",
       "      <th>0</th>\n",
       "      <td>5.0</td>\n",
       "      <td>True</td>\n",
       "      <td>10 17, 2015</td>\n",
       "      <td>A1HP7NVNPFMA4N</td>\n",
       "      <td>0700026657</td>\n",
       "      <td>Ambrosia075</td>\n",
       "      <td>This game is a bit hard to get the hang of, bu...</td>\n",
       "      <td>but when you do it's great.</td>\n",
       "      <td>1445040000</td>\n",
       "      <td>NaN</td>\n",
       "      <td>...</td>\n",
       "      <td>NaN</td>\n",
       "      <td>NaN</td>\n",
       "      <td>NaN</td>\n",
       "      <td>NaN</td>\n",
       "      <td>NaN</td>\n",
       "      <td>NaN</td>\n",
       "      <td>NaN</td>\n",
       "      <td>NaN</td>\n",
       "      <td>NaN</td>\n",
       "      <td>NaN</td>\n",
       "    </tr>\n",
       "    <tr>\n",
       "      <th>1</th>\n",
       "      <td>4.0</td>\n",
       "      <td>False</td>\n",
       "      <td>07 27, 2015</td>\n",
       "      <td>A1JGAP0185YJI6</td>\n",
       "      <td>0700026657</td>\n",
       "      <td>travis</td>\n",
       "      <td>I played it a while but it was alright. The st...</td>\n",
       "      <td>But in spite of that it was fun, I liked it</td>\n",
       "      <td>1437955200</td>\n",
       "      <td>NaN</td>\n",
       "      <td>...</td>\n",
       "      <td>NaN</td>\n",
       "      <td>NaN</td>\n",
       "      <td>NaN</td>\n",
       "      <td>NaN</td>\n",
       "      <td>NaN</td>\n",
       "      <td>NaN</td>\n",
       "      <td>NaN</td>\n",
       "      <td>NaN</td>\n",
       "      <td>NaN</td>\n",
       "      <td>NaN</td>\n",
       "    </tr>\n",
       "    <tr>\n",
       "      <th>2</th>\n",
       "      <td>3.0</td>\n",
       "      <td>True</td>\n",
       "      <td>02 23, 2015</td>\n",
       "      <td>A1YJWEXHQBWK2B</td>\n",
       "      <td>0700026657</td>\n",
       "      <td>Vincent G. Mezera</td>\n",
       "      <td>ok game.</td>\n",
       "      <td>Three Stars</td>\n",
       "      <td>1424649600</td>\n",
       "      <td>NaN</td>\n",
       "      <td>...</td>\n",
       "      <td>NaN</td>\n",
       "      <td>NaN</td>\n",
       "      <td>NaN</td>\n",
       "      <td>NaN</td>\n",
       "      <td>NaN</td>\n",
       "      <td>NaN</td>\n",
       "      <td>NaN</td>\n",
       "      <td>NaN</td>\n",
       "      <td>NaN</td>\n",
       "      <td>NaN</td>\n",
       "    </tr>\n",
       "    <tr>\n",
       "      <th>3</th>\n",
       "      <td>2.0</td>\n",
       "      <td>True</td>\n",
       "      <td>02 20, 2015</td>\n",
       "      <td>A2204E1TH211HT</td>\n",
       "      <td>0700026657</td>\n",
       "      <td>Grandma KR</td>\n",
       "      <td>found the game a bit too complicated, not what...</td>\n",
       "      <td>Two Stars</td>\n",
       "      <td>1424390400</td>\n",
       "      <td>NaN</td>\n",
       "      <td>...</td>\n",
       "      <td>NaN</td>\n",
       "      <td>NaN</td>\n",
       "      <td>NaN</td>\n",
       "      <td>NaN</td>\n",
       "      <td>NaN</td>\n",
       "      <td>NaN</td>\n",
       "      <td>NaN</td>\n",
       "      <td>NaN</td>\n",
       "      <td>NaN</td>\n",
       "      <td>NaN</td>\n",
       "    </tr>\n",
       "    <tr>\n",
       "      <th>4</th>\n",
       "      <td>5.0</td>\n",
       "      <td>True</td>\n",
       "      <td>12 25, 2014</td>\n",
       "      <td>A2RF5B5H74JLPE</td>\n",
       "      <td>0700026657</td>\n",
       "      <td>jon</td>\n",
       "      <td>great game, I love it and have played it since...</td>\n",
       "      <td>love this game</td>\n",
       "      <td>1419465600</td>\n",
       "      <td>NaN</td>\n",
       "      <td>...</td>\n",
       "      <td>NaN</td>\n",
       "      <td>NaN</td>\n",
       "      <td>NaN</td>\n",
       "      <td>NaN</td>\n",
       "      <td>NaN</td>\n",
       "      <td>NaN</td>\n",
       "      <td>NaN</td>\n",
       "      <td>NaN</td>\n",
       "      <td>NaN</td>\n",
       "      <td>NaN</td>\n",
       "    </tr>\n",
       "    <tr>\n",
       "      <th>5</th>\n",
       "      <td>4.0</td>\n",
       "      <td>True</td>\n",
       "      <td>11 13, 2014</td>\n",
       "      <td>A11V6ZJ2FVQY1D</td>\n",
       "      <td>0700026657</td>\n",
       "      <td>IBRAHIM ALBADI</td>\n",
       "      <td>i liked a lot some time that i haven't play a ...</td>\n",
       "      <td>Anno 2070</td>\n",
       "      <td>1415836800</td>\n",
       "      <td>NaN</td>\n",
       "      <td>...</td>\n",
       "      <td>NaN</td>\n",
       "      <td>NaN</td>\n",
       "      <td>NaN</td>\n",
       "      <td>NaN</td>\n",
       "      <td>NaN</td>\n",
       "      <td>NaN</td>\n",
       "      <td>NaN</td>\n",
       "      <td>NaN</td>\n",
       "      <td>NaN</td>\n",
       "      <td>NaN</td>\n",
       "    </tr>\n",
       "    <tr>\n",
       "      <th>6</th>\n",
       "      <td>1.0</td>\n",
       "      <td>False</td>\n",
       "      <td>08 2, 2014</td>\n",
       "      <td>A1KXJ1ELZIU05C</td>\n",
       "      <td>0700026657</td>\n",
       "      <td>Creation27</td>\n",
       "      <td>I'm an avid gamer, but Anno 2070 is an INSULT ...</td>\n",
       "      <td>Avoid This Game - Filled with Bugs</td>\n",
       "      <td>1406937600</td>\n",
       "      <td>NaN</td>\n",
       "      <td>...</td>\n",
       "      <td>NaN</td>\n",
       "      <td>NaN</td>\n",
       "      <td>NaN</td>\n",
       "      <td>NaN</td>\n",
       "      <td>NaN</td>\n",
       "      <td>NaN</td>\n",
       "      <td>NaN</td>\n",
       "      <td>NaN</td>\n",
       "      <td>NaN</td>\n",
       "      <td>NaN</td>\n",
       "    </tr>\n",
       "    <tr>\n",
       "      <th>7</th>\n",
       "      <td>5.0</td>\n",
       "      <td>True</td>\n",
       "      <td>03 3, 2014</td>\n",
       "      <td>A1WK5I4874S3O2</td>\n",
       "      <td>0700026657</td>\n",
       "      <td>WhiteSkull</td>\n",
       "      <td>I bought this game thinking it would be pretty...</td>\n",
       "      <td>A very good game balance of skill with depth o...</td>\n",
       "      <td>1393804800</td>\n",
       "      <td>NaN</td>\n",
       "      <td>...</td>\n",
       "      <td>NaN</td>\n",
       "      <td>NaN</td>\n",
       "      <td>NaN</td>\n",
       "      <td>NaN</td>\n",
       "      <td>NaN</td>\n",
       "      <td>NaN</td>\n",
       "      <td>NaN</td>\n",
       "      <td>NaN</td>\n",
       "      <td>NaN</td>\n",
       "      <td>NaN</td>\n",
       "    </tr>\n",
       "    <tr>\n",
       "      <th>8</th>\n",
       "      <td>5.0</td>\n",
       "      <td>True</td>\n",
       "      <td>02 21, 2014</td>\n",
       "      <td>AV969NA4CBP10</td>\n",
       "      <td>0700026657</td>\n",
       "      <td>Travis B. Moore</td>\n",
       "      <td>I have played the old anno 1701 AND 1503.  thi...</td>\n",
       "      <td>Anno 2070 more like anno 1701</td>\n",
       "      <td>1392940800</td>\n",
       "      <td>NaN</td>\n",
       "      <td>...</td>\n",
       "      <td>NaN</td>\n",
       "      <td>NaN</td>\n",
       "      <td>NaN</td>\n",
       "      <td>NaN</td>\n",
       "      <td>NaN</td>\n",
       "      <td>NaN</td>\n",
       "      <td>NaN</td>\n",
       "      <td>NaN</td>\n",
       "      <td>NaN</td>\n",
       "      <td>NaN</td>\n",
       "    </tr>\n",
       "    <tr>\n",
       "      <th>9</th>\n",
       "      <td>4.0</td>\n",
       "      <td>True</td>\n",
       "      <td>06 27, 2013</td>\n",
       "      <td>A1EO9BFUHTGWKZ</td>\n",
       "      <td>0700026657</td>\n",
       "      <td>johnnyz3</td>\n",
       "      <td>I liked it and had fun with it, played for a w...</td>\n",
       "      <td>Pretty fun</td>\n",
       "      <td>1372291200</td>\n",
       "      <td>NaN</td>\n",
       "      <td>...</td>\n",
       "      <td>NaN</td>\n",
       "      <td>NaN</td>\n",
       "      <td>NaN</td>\n",
       "      <td>NaN</td>\n",
       "      <td>NaN</td>\n",
       "      <td>NaN</td>\n",
       "      <td>NaN</td>\n",
       "      <td>NaN</td>\n",
       "      <td>NaN</td>\n",
       "      <td>NaN</td>\n",
       "    </tr>\n",
       "  </tbody>\n",
       "</table>\n",
       "<p>10 rows × 30 columns</p>\n",
       "</div>"
      ],
      "text/plain": [
       "   overall  verified   reviewTime      reviewerID        asin  \\\n",
       "0      5.0      True  10 17, 2015  A1HP7NVNPFMA4N  0700026657   \n",
       "1      4.0     False  07 27, 2015  A1JGAP0185YJI6  0700026657   \n",
       "2      3.0      True  02 23, 2015  A1YJWEXHQBWK2B  0700026657   \n",
       "3      2.0      True  02 20, 2015  A2204E1TH211HT  0700026657   \n",
       "4      5.0      True  12 25, 2014  A2RF5B5H74JLPE  0700026657   \n",
       "5      4.0      True  11 13, 2014  A11V6ZJ2FVQY1D  0700026657   \n",
       "6      1.0     False   08 2, 2014  A1KXJ1ELZIU05C  0700026657   \n",
       "7      5.0      True   03 3, 2014  A1WK5I4874S3O2  0700026657   \n",
       "8      5.0      True  02 21, 2014   AV969NA4CBP10  0700026657   \n",
       "9      4.0      True  06 27, 2013  A1EO9BFUHTGWKZ  0700026657   \n",
       "\n",
       "        reviewerName                                         reviewText  \\\n",
       "0        Ambrosia075  This game is a bit hard to get the hang of, bu...   \n",
       "1             travis  I played it a while but it was alright. The st...   \n",
       "2  Vincent G. Mezera                                           ok game.   \n",
       "3         Grandma KR  found the game a bit too complicated, not what...   \n",
       "4                jon  great game, I love it and have played it since...   \n",
       "5     IBRAHIM ALBADI  i liked a lot some time that i haven't play a ...   \n",
       "6         Creation27  I'm an avid gamer, but Anno 2070 is an INSULT ...   \n",
       "7         WhiteSkull  I bought this game thinking it would be pretty...   \n",
       "8    Travis B. Moore  I have played the old anno 1701 AND 1503.  thi...   \n",
       "9           johnnyz3  I liked it and had fun with it, played for a w...   \n",
       "\n",
       "                                             summary  unixReviewTime vote  \\\n",
       "0                        but when you do it's great.      1445040000  NaN   \n",
       "1        But in spite of that it was fun, I liked it      1437955200  NaN   \n",
       "2                                        Three Stars      1424649600  NaN   \n",
       "3                                          Two Stars      1424390400  NaN   \n",
       "4                                     love this game      1419465600  NaN   \n",
       "5                                          Anno 2070      1415836800  NaN   \n",
       "6                 Avoid This Game - Filled with Bugs      1406937600  NaN   \n",
       "7  A very good game balance of skill with depth o...      1393804800  NaN   \n",
       "8                      Anno 2070 more like anno 1701      1392940800  NaN   \n",
       "9                                         Pretty fun      1372291200  NaN   \n",
       "\n",
       "   ... style.Package Type: style.Package Quantity:  \\\n",
       "0  ...                 NaN                     NaN   \n",
       "1  ...                 NaN                     NaN   \n",
       "2  ...                 NaN                     NaN   \n",
       "3  ...                 NaN                     NaN   \n",
       "4  ...                 NaN                     NaN   \n",
       "5  ...                 NaN                     NaN   \n",
       "6  ...                 NaN                     NaN   \n",
       "7  ...                 NaN                     NaN   \n",
       "8  ...                 NaN                     NaN   \n",
       "9  ...                 NaN                     NaN   \n",
       "\n",
       "  style.Item Package Quantity: style.Pattern: style.Platform for Display:  \\\n",
       "0                          NaN            NaN                         NaN   \n",
       "1                          NaN            NaN                         NaN   \n",
       "2                          NaN            NaN                         NaN   \n",
       "3                          NaN            NaN                         NaN   \n",
       "4                          NaN            NaN                         NaN   \n",
       "5                          NaN            NaN                         NaN   \n",
       "6                          NaN            NaN                         NaN   \n",
       "7                          NaN            NaN                         NaN   \n",
       "8                          NaN            NaN                         NaN   \n",
       "9                          NaN            NaN                         NaN   \n",
       "\n",
       "  style.Style Name: style.Denomination: style.Offer Type:  \\\n",
       "0               NaN                 NaN               NaN   \n",
       "1               NaN                 NaN               NaN   \n",
       "2               NaN                 NaN               NaN   \n",
       "3               NaN                 NaN               NaN   \n",
       "4               NaN                 NaN               NaN   \n",
       "5               NaN                 NaN               NaN   \n",
       "6               NaN                 NaN               NaN   \n",
       "7               NaN                 NaN               NaN   \n",
       "8               NaN                 NaN               NaN   \n",
       "9               NaN                 NaN               NaN   \n",
       "\n",
       "  style.Configuration: style.Color Name:  \n",
       "0                  NaN               NaN  \n",
       "1                  NaN               NaN  \n",
       "2                  NaN               NaN  \n",
       "3                  NaN               NaN  \n",
       "4                  NaN               NaN  \n",
       "5                  NaN               NaN  \n",
       "6                  NaN               NaN  \n",
       "7                  NaN               NaN  \n",
       "8                  NaN               NaN  \n",
       "9                  NaN               NaN  \n",
       "\n",
       "[10 rows x 30 columns]"
      ]
     },
     "execution_count": 9,
     "metadata": {},
     "output_type": "execute_result"
    }
   ],
   "source": [
    "df.head(10)"
   ]
  },
  {
   "cell_type": "code",
   "execution_count": 10,
   "metadata": {},
   "outputs": [
    {
     "data": {
      "text/plain": [
       "count    497577.000000\n",
       "mean          4.220456\n",
       "std           1.185424\n",
       "min           1.000000\n",
       "25%           4.000000\n",
       "50%           5.000000\n",
       "75%           5.000000\n",
       "max           5.000000\n",
       "Name: overall, dtype: float64"
      ]
     },
     "execution_count": 10,
     "metadata": {},
     "output_type": "execute_result"
    }
   ],
   "source": [
    "df['overall'].describe()"
   ]
  },
  {
   "cell_type": "markdown",
   "metadata": {},
   "source": [
    "## Plot of product ratings"
   ]
  },
  {
   "cell_type": "code",
   "execution_count": 41,
   "metadata": {},
   "outputs": [
    {
     "data": {
      "text/plain": [
       "5.0    299759\n",
       "4.0     93654\n",
       "3.0     49146\n",
       "1.0     30883\n",
       "2.0     24135\n",
       "Name: overall, dtype: int64"
      ]
     },
     "execution_count": 41,
     "metadata": {},
     "output_type": "execute_result"
    }
   ],
   "source": [
    "df['overall'].value_counts()"
   ]
  },
  {
   "cell_type": "code",
   "execution_count": 40,
   "metadata": {},
   "outputs": [
    {
     "data": {
      "text/plain": [
       "<matplotlib.axes._subplots.AxesSubplot at 0x116027790>"
      ]
     },
     "execution_count": 40,
     "metadata": {},
     "output_type": "execute_result"
    },
    {
     "data": {
      "image/png": "[encoded data removed]",
      "text/plain": [
       "<Figure size 432x288 with 1 Axes>"
      ]
     },
     "metadata": {
      "needs_background": "light"
     },
     "output_type": "display_data"
    }
   ],
   "source": [
    "df['overall'].hist()"
   ]
  },
  {
   "cell_type": "code",
   "execution_count": 11,
   "metadata": {},
   "outputs": [
    {
     "data": {
      "text/plain": [
       "<matplotlib.axes._subplots.AxesSubplot at 0x11674b050>"
      ]
     },
     "execution_count": 11,
     "metadata": {},
     "output_type": "execute_result"
    },
    {
     "data": {
      "image/png": "[encoded data removed]",
      "text/plain": [
       "<Figure size 432x288 with 1 Axes>"
      ]
     },
     "metadata": {
      "needs_background": "light"
     },
     "output_type": "display_data"
    }
   ],
   "source": [
    "df['overall'].value_counts().sort_index().plot(kind='bar')"
   ]
  },
  {
   "cell_type": "markdown",
   "metadata": {},
   "source": [
    "## Sampling the reviews"
   ]
  },
  {
   "cell_type": "code",
   "execution_count": 12,
   "metadata": {},
   "outputs": [
    {
     "data": {
      "text/plain": [
       "(497577, 30)"
      ]
     },
     "execution_count": 12,
     "metadata": {},
     "output_type": "execute_result"
    }
   ],
   "source": [
    "df.shape"
   ]
  },
  {
   "cell_type": "code",
   "execution_count": 13,
   "metadata": {},
   "outputs": [],
   "source": [
    "rows_total = df.shape[0]"
   ]
  },
  {
   "cell_type": "markdown",
   "metadata": {},
   "source": [
    "Get 3 random reviews"
   ]
  },
  {
   "cell_type": "code",
   "execution_count": 26,
   "metadata": {},
   "outputs": [
    {
     "name": "stdout",
     "output_type": "stream",
     "text": [
      "- item 302700:\n",
      "review: ;)\n",
      "rating: 5.0\n",
      "\n",
      "\n",
      "- item 27101:\n",
      "review: BRUTE FORCE SHOULD NOT BE TAKEN LIGHTLY. I KNOW HALO IS AWSOME AND EVERYTHING BUT BRUTE FORCE IS GOING TO TO TAKE HALO OVER THE EDGE. THE GAME THAT CRAWLS BACK ON TOP WILL BE THE ONE THAT IS MORE INTENSE AND REQUIRES MORE FORCE AND SKILL TO PLAY. I'M GOING TO GO WITH BRUTE FORCE. IF BUNGIE IS GOING TO HAVE A CHANCE AGAINST BRUTE FORCE THEY BETTER SEE WHAT ELSE THE XBOX HAS THAT THEY DIDN'T USE BEFORE.\n",
      "rating: 5.0\n",
      "\n",
      "\n",
      "- item 143515:\n",
      "review: I rented this game because I was on the fence about buying it. I really liked it right away, it is a unique idea and I like the execution. The Graphics are awesome and the enemies are pretty cool. There are alot of guns but this seem to be somewhat of a gimmick, chances are you use the ones you like and ignore the rest.\n",
      "\n",
      "That being said if you don't like RPGs or \"grinding\" for loot, this game will bore you. There is not a whole lot of variety to be had or a thriving story line. It is however more accessible to shooter gamers than your RPGs like Mass Effect that have awful shooting mechanics. If you are on the fence about making a purchase you will be best set to wait a month or so it will be $20 after xmas. If you think this is a game that you need to run out and buy then you probably already know what your in for and your money will not be wasted.\n",
      "rating: 4.0\n",
      "\n",
      "\n"
     ]
    }
   ],
   "source": [
    "idx = [np.random.randint(1, rows_total) for _ in range(3)]\n",
    "for i in idx:\n",
    "  print(f\"- item {i}:\")\n",
    "  print(\"review:\", df.loc[i].reviewText)\n",
    "  print(\"rating:\", df.loc[i].overall)\n",
    "  print(\"\\n\")"
   ]
  },
  {
   "cell_type": "markdown",
   "metadata": {},
   "source": [
    "## Prepare training data"
   ]
  },
  {
   "cell_type": "markdown",
   "metadata": {},
   "source": [
    "### 1. Sampling 1500/500/500/500/1500 reviews for ratings 1->5 "
   ]
  },
  {
   "cell_type": "code",
   "execution_count": 60,
   "metadata": {},
   "outputs": [],
   "source": [
    "def sample_rating(rating, size):\n",
    "    dfsub = df.loc[df['overall']==rating]\n",
    "    idx = dfsub.index.tolist()\n",
    "    sample_idx = sample(idx, size)\n",
    "    return df.iloc[sample_idx]"
   ]
  },
  {
   "cell_type": "markdown",
   "metadata": {},
   "source": [
    "Sample reviews for all ratings and save to file"
   ]
  },
  {
   "cell_type": "code",
   "execution_count": 105,
   "metadata": {},
   "outputs": [
    {
     "name": "stdout",
     "output_type": "stream",
     "text": [
      "sample 1500 samples for rating 1.0\n",
      "                                               reviewText  overall\n",
      "287395  The game is great, 5 stars, but anyone paying ...      1.0\n",
      "439779  We had this on pre-order for 2 years. Forza 5 ...      1.0\n",
      "493462  Despite my having a high-powered PC, the game ...      1.0\n",
      "455382  No Yao Ming, Michael Redd, Tayshaun Prince etc...      1.0\n",
      "27177   Love this game series. Love playing GTA Libert...      1.0\n",
      "\n",
      "\n",
      "\n",
      "sample 500 samples for rating 2.0\n",
      "                                               reviewText  overall\n",
      "89708   I owned this game for a total of one day befor...      2.0\n",
      "113418  The fun part about this game is beating up the...      2.0\n",
      "194495  Grapple is a joke to use.  Half the game is ba...      2.0\n",
      "242888  It was a little better than the other two, but...      2.0\n",
      "339892  Basically, It's one mission in an episodic sto...      2.0\n",
      "\n",
      "\n",
      "\n",
      "sample 500 samples for rating 3.0\n",
      "                                               reviewText  overall\n",
      "241288  I tried this with Need For Speed Hot Pursuit. ...      3.0\n",
      "290030  Well, it seems to be a button masher. Got game...      3.0\n",
      "312627  I bought the hype and the game from PS store. ...      3.0\n",
      "342216  Great sound & comfortable but after 6 months t...      3.0\n",
      "104641  This is a great game, great Graphics and Sound...      3.0\n",
      "\n",
      "\n",
      "\n",
      "sample 500 samples for rating 4.0\n",
      "                                               reviewText  overall\n",
      "182708  As far as band exclusive games this is the hol...      4.0\n",
      "121052  If you want to race on the rough roads with yo...      4.0\n",
      "63240   This is a title made by the same team who did ...      4.0\n",
      "86211   This title is the tre sequel to Railroad Tycoo...      4.0\n",
      "150101  Got this game in about a week (labor day was i...      4.0\n",
      "\n",
      "\n",
      "\n",
      "sample 1500 samples for rating 5.0\n",
      "                                               reviewText  overall\n",
      "28917   This controller is pretty much perfect.  You c...      5.0\n",
      "275831  Bought this figure simply because it was half ...      5.0\n",
      "147208  The product comes with a USB cable and a recha...      5.0\n",
      "462692                           Product works swimmingly      5.0\n",
      "380970  Great game what is better than killing zombies...      5.0\n",
      "\n",
      "\n",
      "\n"
     ]
    }
   ],
   "source": [
    "rating_sample_size = {\n",
    "    1.0: 1500,\n",
    "    2.0: 500,\n",
    "    3.0: 500,\n",
    "    4.0: 500,\n",
    "    5.0: 1500,\n",
    "}\n",
    "\n",
    "for rating, size in rating_sample_size.items():\n",
    "    print(\"sample {} samples for rating {}\".format(size, rating))\n",
    "    dfsample = sample_rating(rating, size)\n",
    "    print(dfsample.head()[['reviewText', 'overall']])\n",
    "    print(\"\\n\\n\")\n",
    "    \n",
    "    # https://pandas.pydata.org/pandas-docs/version/0.21.1/generated/pandas.DataFrame.to_csv.html\n",
    "    dfsample.to_csv(\n",
    "        \"data/small_rating_{}.csv\".format(int(rating)),\n",
    "        index=False,\n",
    "        columns=['reviewText', 'overall'])"
   ]
  },
  {
   "cell_type": "markdown",
   "metadata": {},
   "source": [
    "### 2. Sample 100,000 reviews"
   ]
  },
  {
   "cell_type": "code",
   "execution_count": 97,
   "metadata": {},
   "outputs": [],
   "source": [
    "def sample_reviews(size):\n",
    "    rows_total = df.shape[0]\n",
    "    # sample without replacement\n",
    "    idx = sample(range(0, rows_total), size)\n",
    "    return df.iloc[idx]"
   ]
  },
  {
   "cell_type": "code",
   "execution_count": 106,
   "metadata": {},
   "outputs": [
    {
     "name": "stdout",
     "output_type": "stream",
     "text": [
      "                                               reviewText  overall\n",
      "18934   I like RPGs.  I like D&D.  This game, however,...      3.0\n",
      "120758  I wasn't to sure about having things laid out ...      5.0\n",
      "401681                                            genial!      4.0\n",
      "193497  The games are very well adjusted to Wii contro...      4.0\n",
      "143626  I initially played Civilization on the PC a co...      4.0\n"
     ]
    }
   ],
   "source": [
    "df1 = sample_reviews(100000)\n",
    "print(df1[['reviewText', 'overall']].head())\n",
    "df1.to_csv(\n",
    "        \"data/big_rating_all.csv\",\n",
    "        index=False,\n",
    "        columns=['reviewText', 'overall'])"
   ]
  },
  {
   "cell_type": "code",
   "execution_count": null,
   "metadata": {},
   "outputs": [],
   "source": []
  }
 ],
 "metadata": {
  "kernelspec": {
   "display_name": "Python 3",
   "language": "python",
   "name": "python3"
  },
  "language_info": {
   "codemirror_mode": {
    "name": "ipython",
    "version": 3
   },
   "file_extension": ".py",
   "mimetype": "text/x-python",
   "name": "python",
   "nbconvert_exporter": "python",
   "pygments_lexer": "ipython3",
   "version": "3.7.7"
  }
 },
 "nbformat": 4,
 "nbformat_minor": 2
}
